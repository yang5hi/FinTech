{
 "cells": [
  {
   "cell_type": "markdown",
   "metadata": {},
   "source": [
    "#### Import Libraries and Dependencies "
   ]
  },
  {
   "cell_type": "code",
   "execution_count": 1,
   "metadata": {},
   "outputs": [],
   "source": [
    "import pandas as pd\n",
    "from pathlib import Path"
   ]
  },
  {
   "cell_type": "markdown",
   "metadata": {},
   "source": [
    "#### Read in Files "
   ]
  },
  {
   "cell_type": "code",
   "execution_count": 2,
   "metadata": {},
   "outputs": [],
   "source": [
    "# Import data\n",
    "\n",
    "f_path = Path('../Resources/F.csv')\n",
    "gm_path = Path('../Resources/GM.csv')\n",
    "tsla_path = Path('../Resources/TSLA.csv')\n",
    "\n",
    "# Read in data and index by date\n",
    "f_data = pd.read_csv(f_path, index_col='Date')\n",
    "gm_data = pd.read_csv(gm_path, index_col='Date')\n",
    "tsla_data = pd.read_csv(tsla_path, index_col='Date')"
   ]
  },
  {
   "cell_type": "markdown",
   "metadata": {},
   "source": [
    "#### Output of sample data"
   ]
  },
  {
   "cell_type": "code",
   "execution_count": 3,
   "metadata": {},
   "outputs": [
    {
     "data": {
      "text/html": [
       "<div>\n",
       "<style scoped>\n",
       "    .dataframe tbody tr th:only-of-type {\n",
       "        vertical-align: middle;\n",
       "    }\n",
       "\n",
       "    .dataframe tbody tr th {\n",
       "        vertical-align: top;\n",
       "    }\n",
       "\n",
       "    .dataframe thead th {\n",
       "        text-align: right;\n",
       "    }\n",
       "</style>\n",
       "<table border=\"1\" class=\"dataframe\">\n",
       "  <thead>\n",
       "    <tr style=\"text-align: right;\">\n",
       "      <th></th>\n",
       "      <th>Open</th>\n",
       "      <th>High</th>\n",
       "      <th>Low</th>\n",
       "      <th>Close</th>\n",
       "      <th>Volume</th>\n",
       "    </tr>\n",
       "    <tr>\n",
       "      <th>Date</th>\n",
       "      <th></th>\n",
       "      <th></th>\n",
       "      <th></th>\n",
       "      <th></th>\n",
       "      <th></th>\n",
       "    </tr>\n",
       "  </thead>\n",
       "  <tbody>\n",
       "    <tr>\n",
       "      <th>1/2/2018</th>\n",
       "      <td>12.52</td>\n",
       "      <td>12.66</td>\n",
       "      <td>12.50</td>\n",
       "      <td>12.66</td>\n",
       "      <td>20773320</td>\n",
       "    </tr>\n",
       "    <tr>\n",
       "      <th>1/3/2018</th>\n",
       "      <td>12.68</td>\n",
       "      <td>12.80</td>\n",
       "      <td>12.67</td>\n",
       "      <td>12.76</td>\n",
       "      <td>29765638</td>\n",
       "    </tr>\n",
       "    <tr>\n",
       "      <th>1/4/2018</th>\n",
       "      <td>12.78</td>\n",
       "      <td>13.04</td>\n",
       "      <td>12.77</td>\n",
       "      <td>12.98</td>\n",
       "      <td>37478200</td>\n",
       "    </tr>\n",
       "    <tr>\n",
       "      <th>1/5/2018</th>\n",
       "      <td>13.06</td>\n",
       "      <td>13.22</td>\n",
       "      <td>13.04</td>\n",
       "      <td>13.20</td>\n",
       "      <td>46121873</td>\n",
       "    </tr>\n",
       "    <tr>\n",
       "      <th>1/8/2018</th>\n",
       "      <td>13.21</td>\n",
       "      <td>13.22</td>\n",
       "      <td>13.11</td>\n",
       "      <td>13.15</td>\n",
       "      <td>33828330</td>\n",
       "    </tr>\n",
       "  </tbody>\n",
       "</table>\n",
       "</div>"
      ],
      "text/plain": [
       "           Open   High    Low  Close    Volume\n",
       "Date                                          \n",
       "1/2/2018  12.52  12.66  12.50  12.66  20773320\n",
       "1/3/2018  12.68  12.80  12.67  12.76  29765638\n",
       "1/4/2018  12.78  13.04  12.77  12.98  37478200\n",
       "1/5/2018  13.06  13.22  13.04  13.20  46121873\n",
       "1/8/2018  13.21  13.22  13.11  13.15  33828330"
      ]
     },
     "execution_count": 3,
     "metadata": {},
     "output_type": "execute_result"
    }
   ],
   "source": [
    "# Show sample of Ford data\n",
    "f_data.head()"
   ]
  },
  {
   "cell_type": "code",
   "execution_count": 4,
   "metadata": {},
   "outputs": [
    {
     "data": {
      "text/html": [
       "<div>\n",
       "<style scoped>\n",
       "    .dataframe tbody tr th:only-of-type {\n",
       "        vertical-align: middle;\n",
       "    }\n",
       "\n",
       "    .dataframe tbody tr th {\n",
       "        vertical-align: top;\n",
       "    }\n",
       "\n",
       "    .dataframe thead th {\n",
       "        text-align: right;\n",
       "    }\n",
       "</style>\n",
       "<table border=\"1\" class=\"dataframe\">\n",
       "  <thead>\n",
       "    <tr style=\"text-align: right;\">\n",
       "      <th></th>\n",
       "      <th>Open</th>\n",
       "      <th>High</th>\n",
       "      <th>Low</th>\n",
       "      <th>Close</th>\n",
       "      <th>Volume</th>\n",
       "    </tr>\n",
       "    <tr>\n",
       "      <th>Date</th>\n",
       "      <th></th>\n",
       "      <th></th>\n",
       "      <th></th>\n",
       "      <th></th>\n",
       "      <th></th>\n",
       "    </tr>\n",
       "  </thead>\n",
       "  <tbody>\n",
       "    <tr>\n",
       "      <th>1/2/2018</th>\n",
       "      <td>41.24</td>\n",
       "      <td>41.87</td>\n",
       "      <td>41.15</td>\n",
       "      <td>41.80</td>\n",
       "      <td>6934570</td>\n",
       "    </tr>\n",
       "    <tr>\n",
       "      <th>1/3/2018</th>\n",
       "      <td>42.21</td>\n",
       "      <td>42.95</td>\n",
       "      <td>42.20</td>\n",
       "      <td>42.82</td>\n",
       "      <td>14591587</td>\n",
       "    </tr>\n",
       "    <tr>\n",
       "      <th>1/4/2018</th>\n",
       "      <td>43.09</td>\n",
       "      <td>44.25</td>\n",
       "      <td>43.01</td>\n",
       "      <td>44.14</td>\n",
       "      <td>17298680</td>\n",
       "    </tr>\n",
       "    <tr>\n",
       "      <th>1/5/2018</th>\n",
       "      <td>44.50</td>\n",
       "      <td>44.64</td>\n",
       "      <td>43.96</td>\n",
       "      <td>44.01</td>\n",
       "      <td>9643317</td>\n",
       "    </tr>\n",
       "    <tr>\n",
       "      <th>1/8/2018</th>\n",
       "      <td>44.04</td>\n",
       "      <td>44.59</td>\n",
       "      <td>43.52</td>\n",
       "      <td>44.22</td>\n",
       "      <td>13099632</td>\n",
       "    </tr>\n",
       "  </tbody>\n",
       "</table>\n",
       "</div>"
      ],
      "text/plain": [
       "           Open   High    Low  Close    Volume\n",
       "Date                                          \n",
       "1/2/2018  41.24  41.87  41.15  41.80   6934570\n",
       "1/3/2018  42.21  42.95  42.20  42.82  14591587\n",
       "1/4/2018  43.09  44.25  43.01  44.14  17298680\n",
       "1/5/2018  44.50  44.64  43.96  44.01   9643317\n",
       "1/8/2018  44.04  44.59  43.52  44.22  13099632"
      ]
     },
     "execution_count": 4,
     "metadata": {},
     "output_type": "execute_result"
    }
   ],
   "source": [
    "# Show sample of General Motors data\n",
    "gm_data.head()"
   ]
  },
  {
   "cell_type": "code",
   "execution_count": 6,
   "metadata": {},
   "outputs": [
    {
     "data": {
      "text/html": [
       "<div>\n",
       "<style scoped>\n",
       "    .dataframe tbody tr th:only-of-type {\n",
       "        vertical-align: middle;\n",
       "    }\n",
       "\n",
       "    .dataframe tbody tr th {\n",
       "        vertical-align: top;\n",
       "    }\n",
       "\n",
       "    .dataframe thead th {\n",
       "        text-align: right;\n",
       "    }\n",
       "</style>\n",
       "<table border=\"1\" class=\"dataframe\">\n",
       "  <thead>\n",
       "    <tr style=\"text-align: right;\">\n",
       "      <th></th>\n",
       "      <th>Open</th>\n",
       "      <th>High</th>\n",
       "      <th>Low</th>\n",
       "      <th>Close</th>\n",
       "      <th>Volume</th>\n",
       "    </tr>\n",
       "    <tr>\n",
       "      <th>Date</th>\n",
       "      <th></th>\n",
       "      <th></th>\n",
       "      <th></th>\n",
       "      <th></th>\n",
       "      <th></th>\n",
       "    </tr>\n",
       "  </thead>\n",
       "  <tbody>\n",
       "    <tr>\n",
       "      <th>1/2/2018</th>\n",
       "      <td>312.00</td>\n",
       "      <td>322.11</td>\n",
       "      <td>311.00</td>\n",
       "      <td>320.53</td>\n",
       "      <td>4352241</td>\n",
       "    </tr>\n",
       "    <tr>\n",
       "      <th>1/3/2018</th>\n",
       "      <td>321.00</td>\n",
       "      <td>325.25</td>\n",
       "      <td>315.55</td>\n",
       "      <td>317.25</td>\n",
       "      <td>4521527</td>\n",
       "    </tr>\n",
       "    <tr>\n",
       "      <th>1/4/2018</th>\n",
       "      <td>312.87</td>\n",
       "      <td>318.55</td>\n",
       "      <td>305.68</td>\n",
       "      <td>314.62</td>\n",
       "      <td>9946304</td>\n",
       "    </tr>\n",
       "    <tr>\n",
       "      <th>1/5/2018</th>\n",
       "      <td>316.62</td>\n",
       "      <td>317.24</td>\n",
       "      <td>312.00</td>\n",
       "      <td>316.58</td>\n",
       "      <td>4591180</td>\n",
       "    </tr>\n",
       "    <tr>\n",
       "      <th>1/8/2018</th>\n",
       "      <td>316.00</td>\n",
       "      <td>337.02</td>\n",
       "      <td>315.50</td>\n",
       "      <td>336.41</td>\n",
       "      <td>9859435</td>\n",
       "    </tr>\n",
       "  </tbody>\n",
       "</table>\n",
       "</div>"
      ],
      "text/plain": [
       "            Open    High     Low   Close   Volume\n",
       "Date                                             \n",
       "1/2/2018  312.00  322.11  311.00  320.53  4352241\n",
       "1/3/2018  321.00  325.25  315.55  317.25  4521527\n",
       "1/4/2018  312.87  318.55  305.68  314.62  9946304\n",
       "1/5/2018  316.62  317.24  312.00  316.58  4591180\n",
       "1/8/2018  316.00  337.02  315.50  336.41  9859435"
      ]
     },
     "execution_count": 6,
     "metadata": {},
     "output_type": "execute_result"
    }
   ],
   "source": [
    "# Show sample of Tesla data\n",
    "tsla_data.head()"
   ]
  },
  {
   "cell_type": "markdown",
   "metadata": {},
   "source": [
    "#### Concatenate data by rows using concat function and inner join"
   ]
  },
  {
   "cell_type": "code",
   "execution_count": null,
   "metadata": {},
   "outputs": [],
   "source": [
    "# Join by rows axis\n"
   ]
  },
  {
   "cell_type": "markdown",
   "metadata": {},
   "source": [
    "#### Concatenate data by columns using concat function and inner join"
   ]
  },
  {
   "cell_type": "code",
   "execution_count": null,
   "metadata": {},
   "outputs": [],
   "source": [
    "# Join by columns axis\n"
   ]
  },
  {
   "cell_type": "code",
   "execution_count": null,
   "metadata": {},
   "outputs": [],
   "source": []
  }
 ],
 "metadata": {
  "kernelspec": {
   "display_name": "Python 3 (ipykernel)",
   "language": "python",
   "name": "python3"
  },
  "language_info": {
   "codemirror_mode": {
    "name": "ipython",
    "version": 3
   },
   "file_extension": ".py",
   "mimetype": "text/x-python",
   "name": "python",
   "nbconvert_exporter": "python",
   "pygments_lexer": "ipython3",
   "version": "3.8.12"
  }
 },
 "nbformat": 4,
 "nbformat_minor": 4
}
